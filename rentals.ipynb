{
 "cells": [
  {
   "cell_type": "markdown",
   "metadata": {},
   "source": [
    "### New Orleans Short-Term Rental Applications"
   ]
  },
  {
   "cell_type": "code",
   "execution_count": 1,
   "metadata": {},
   "outputs": [],
   "source": [
    "import pandas as pd\n",
    "import numpy as np\n",
    "import matplotlib.pyplot as plt\n",
    "import seaborn as sns\n",
    "\n",
    "%matplotlib inline"
   ]
  },
  {
   "cell_type": "code",
   "execution_count": 2,
   "metadata": {},
   "outputs": [
    {
     "name": "stdout",
     "output_type": "stream",
     "text": [
      "Number of rows: 24019\n"
     ]
    },
    {
     "data": {
      "text/html": [
       "<div>\n",
       "<style scoped>\n",
       "    .dataframe tbody tr th:only-of-type {\n",
       "        vertical-align: middle;\n",
       "    }\n",
       "\n",
       "    .dataframe tbody tr th {\n",
       "        vertical-align: top;\n",
       "    }\n",
       "\n",
       "    .dataframe thead th {\n",
       "        text-align: right;\n",
       "    }\n",
       "</style>\n",
       "<table border=\"1\" class=\"dataframe\">\n",
       "  <thead>\n",
       "    <tr style=\"text-align: right;\">\n",
       "      <th></th>\n",
       "      <th>Permit Number</th>\n",
       "      <th>Address</th>\n",
       "      <th>Permit Type</th>\n",
       "      <th>Residential Subtype</th>\n",
       "      <th>Current Status</th>\n",
       "      <th>Expired</th>\n",
       "      <th>Expiration Date</th>\n",
       "      <th>Bedroom Limit</th>\n",
       "      <th>Guest Occupancy Limit</th>\n",
       "      <th>Link</th>\n",
       "      <th>...</th>\n",
       "      <th>Operator Phone</th>\n",
       "      <th>Operator Email</th>\n",
       "      <th>Operator Permit Number</th>\n",
       "      <th>License Holder Name</th>\n",
       "      <th>Application Date</th>\n",
       "      <th>Issue_Date</th>\n",
       "      <th>Reference Code</th>\n",
       "      <th>X</th>\n",
       "      <th>Y</th>\n",
       "      <th>Location</th>\n",
       "    </tr>\n",
       "  </thead>\n",
       "  <tbody>\n",
       "    <tr>\n",
       "      <th>0</th>\n",
       "      <td>NaN</td>\n",
       "      <td>NaN</td>\n",
       "      <td>NaN</td>\n",
       "      <td>NaN</td>\n",
       "      <td>Duplicate</td>\n",
       "      <td>Yes</td>\n",
       "      <td>NaN</td>\n",
       "      <td>NaN</td>\n",
       "      <td>NaN</td>\n",
       "      <td>http://onestopapp.nola.gov/Redirect.aspx?Searc...</td>\n",
       "      <td>...</td>\n",
       "      <td>NaN</td>\n",
       "      <td>NaN</td>\n",
       "      <td>NaN</td>\n",
       "      <td>Curtis Alex</td>\n",
       "      <td>03/14/2017</td>\n",
       "      <td>NaN</td>\n",
       "      <td>YZ1BXS</td>\n",
       "      <td>-1.000000e+00</td>\n",
       "      <td>-1.00000</td>\n",
       "      <td>(28.09889070681073, -101.51779913517812)</td>\n",
       "    </tr>\n",
       "    <tr>\n",
       "      <th>1</th>\n",
       "      <td>NaN</td>\n",
       "      <td>932 N Rendon ST</td>\n",
       "      <td>Temporary STR</td>\n",
       "      <td>NaN</td>\n",
       "      <td>Denied</td>\n",
       "      <td>Yes</td>\n",
       "      <td>NaN</td>\n",
       "      <td>NaN</td>\n",
       "      <td>NaN</td>\n",
       "      <td>http://onestopapp.nola.gov/Redirect.aspx?Searc...</td>\n",
       "      <td>...</td>\n",
       "      <td>NaN</td>\n",
       "      <td>NaN</td>\n",
       "      <td>NaN</td>\n",
       "      <td>Karen Brandao</td>\n",
       "      <td>04/04/2017</td>\n",
       "      <td>NaN</td>\n",
       "      <td>TSMLQC</td>\n",
       "      <td>3.675644e+06</td>\n",
       "      <td>539075.76615</td>\n",
       "      <td>(29.976447982920885, -90.08630146205046)</td>\n",
       "    </tr>\n",
       "    <tr>\n",
       "      <th>2</th>\n",
       "      <td>NaN</td>\n",
       "      <td>814 Third ST</td>\n",
       "      <td>Accessory STR</td>\n",
       "      <td>NaN</td>\n",
       "      <td>Denied</td>\n",
       "      <td>Yes</td>\n",
       "      <td>NaN</td>\n",
       "      <td>NaN</td>\n",
       "      <td>NaN</td>\n",
       "      <td>http://onestopapp.nola.gov/Redirect.aspx?Searc...</td>\n",
       "      <td>...</td>\n",
       "      <td>NaN</td>\n",
       "      <td>NaN</td>\n",
       "      <td>NaN</td>\n",
       "      <td>Ian Willson</td>\n",
       "      <td>04/04/2017</td>\n",
       "      <td>NaN</td>\n",
       "      <td>VK2DRT</td>\n",
       "      <td>3.678036e+06</td>\n",
       "      <td>520322.66962</td>\n",
       "      <td>(29.92481143736287, -90.079394480006)</td>\n",
       "    </tr>\n",
       "    <tr>\n",
       "      <th>3</th>\n",
       "      <td>NaN</td>\n",
       "      <td>527 Napoleon Ave</td>\n",
       "      <td>Temporary STR</td>\n",
       "      <td>NaN</td>\n",
       "      <td>Denied</td>\n",
       "      <td>Yes</td>\n",
       "      <td>NaN</td>\n",
       "      <td>NaN</td>\n",
       "      <td>NaN</td>\n",
       "      <td>http://onestopapp.nola.gov/Redirect.aspx?Searc...</td>\n",
       "      <td>...</td>\n",
       "      <td>NaN</td>\n",
       "      <td>NaN</td>\n",
       "      <td>NaN</td>\n",
       "      <td>Brett Marcel Babineaux</td>\n",
       "      <td>04/11/2017</td>\n",
       "      <td>NaN</td>\n",
       "      <td>KA3FY7</td>\n",
       "      <td>3.671252e+06</td>\n",
       "      <td>517639.72869</td>\n",
       "      <td>(29.91763659810659, -90.10090070967331)</td>\n",
       "    </tr>\n",
       "    <tr>\n",
       "      <th>4</th>\n",
       "      <td>NaN</td>\n",
       "      <td>5821 Carlisle CT</td>\n",
       "      <td>Accessory STR</td>\n",
       "      <td>NaN</td>\n",
       "      <td>Withdrawn</td>\n",
       "      <td>Yes</td>\n",
       "      <td>NaN</td>\n",
       "      <td>NaN</td>\n",
       "      <td>NaN</td>\n",
       "      <td>http://onestopapp.nola.gov/Redirect.aspx?Searc...</td>\n",
       "      <td>...</td>\n",
       "      <td>NaN</td>\n",
       "      <td>NaN</td>\n",
       "      <td>NaN</td>\n",
       "      <td>Jean Ann Rolla</td>\n",
       "      <td>04/28/2017</td>\n",
       "      <td>NaN</td>\n",
       "      <td>D6DMUD</td>\n",
       "      <td>3.705188e+06</td>\n",
       "      <td>516473.22111</td>\n",
       "      <td>(29.913381859718466, -89.99382935360973)</td>\n",
       "    </tr>\n",
       "  </tbody>\n",
       "</table>\n",
       "<p>5 rows × 21 columns</p>\n",
       "</div>"
      ],
      "text/plain": [
       "  Permit Number           Address    Permit Type Residential Subtype  \\\n",
       "0           NaN               NaN            NaN                 NaN   \n",
       "1           NaN   932 N Rendon ST  Temporary STR                 NaN   \n",
       "2           NaN      814 Third ST  Accessory STR                 NaN   \n",
       "3           NaN  527 Napoleon Ave  Temporary STR                 NaN   \n",
       "4           NaN  5821 Carlisle CT  Accessory STR                 NaN   \n",
       "\n",
       "  Current Status Expired Expiration Date  Bedroom Limit  \\\n",
       "0      Duplicate     Yes             NaN            NaN   \n",
       "1         Denied     Yes             NaN            NaN   \n",
       "2         Denied     Yes             NaN            NaN   \n",
       "3         Denied     Yes             NaN            NaN   \n",
       "4      Withdrawn     Yes             NaN            NaN   \n",
       "\n",
       "   Guest Occupancy Limit                                               Link  \\\n",
       "0                    NaN  http://onestopapp.nola.gov/Redirect.aspx?Searc...   \n",
       "1                    NaN  http://onestopapp.nola.gov/Redirect.aspx?Searc...   \n",
       "2                    NaN  http://onestopapp.nola.gov/Redirect.aspx?Searc...   \n",
       "3                    NaN  http://onestopapp.nola.gov/Redirect.aspx?Searc...   \n",
       "4                    NaN  http://onestopapp.nola.gov/Redirect.aspx?Searc...   \n",
       "\n",
       "   ... Operator Phone Operator Email Operator Permit Number  \\\n",
       "0  ...            NaN            NaN                    NaN   \n",
       "1  ...            NaN            NaN                    NaN   \n",
       "2  ...            NaN            NaN                    NaN   \n",
       "3  ...            NaN            NaN                    NaN   \n",
       "4  ...            NaN            NaN                    NaN   \n",
       "\n",
       "      License Holder Name Application Date Issue_Date Reference Code  \\\n",
       "0             Curtis Alex       03/14/2017        NaN         YZ1BXS   \n",
       "1           Karen Brandao       04/04/2017        NaN         TSMLQC   \n",
       "2             Ian Willson       04/04/2017        NaN         VK2DRT   \n",
       "3  Brett Marcel Babineaux       04/11/2017        NaN         KA3FY7   \n",
       "4          Jean Ann Rolla       04/28/2017        NaN         D6DMUD   \n",
       "\n",
       "              X             Y                                  Location  \n",
       "0 -1.000000e+00      -1.00000  (28.09889070681073, -101.51779913517812)  \n",
       "1  3.675644e+06  539075.76615  (29.976447982920885, -90.08630146205046)  \n",
       "2  3.678036e+06  520322.66962     (29.92481143736287, -90.079394480006)  \n",
       "3  3.671252e+06  517639.72869   (29.91763659810659, -90.10090070967331)  \n",
       "4  3.705188e+06  516473.22111  (29.913381859718466, -89.99382935360973)  \n",
       "\n",
       "[5 rows x 21 columns]"
      ]
     },
     "metadata": {},
     "output_type": "display_data"
    }
   ],
   "source": [
    "df = pd.read_csv(\"Short-Term_Rental_Permit_Applications.csv\")\n",
    "print(f\"Number of rows: {len(df)}\")\n",
    "display(df.head())"
   ]
  },
  {
   "cell_type": "code",
   "execution_count": 3,
   "metadata": {},
   "outputs": [
    {
     "name": "stdout",
     "output_type": "stream",
     "text": [
      "Number of rows: 22796\n"
     ]
    }
   ],
   "source": [
    "# remove duplicates as they add no new info\n",
    "df = df.drop(df.loc[df[\"Current Status\"] == \"Duplicate\"].index)\n",
    "print(f\"Number of rows: {len(df)}\")"
   ]
  },
  {
   "cell_type": "code",
   "execution_count": 4,
   "metadata": {},
   "outputs": [
    {
     "name": "stdout",
     "output_type": "stream",
     "text": [
      "There are 228 addresses missing.\n",
      "There are 0 locations missing.\n",
      "There are 32 application dates missing.\n"
     ]
    }
   ],
   "source": [
    "num_add_missing = len(df.loc[df[\"Address\"].isnull() == True].index)\n",
    "print(f\"There are {num_add_missing} addresses missing.\")\n",
    "num_loc_missing = len(df.loc[df[\"Location\"].isnull() == True].index)\n",
    "print(f\"There are {num_loc_missing} locations missing.\")\n",
    "num_app_missing = len(df.loc[df[\"Application Date\"].isnull() == True].index)\n",
    "print(f\"There are {num_app_missing} application dates missing.\")"
   ]
  },
  {
   "cell_type": "markdown",
   "metadata": {},
   "source": [
    "There are 228 rows where there is no address, but there is a location coordinate for each address. Should I keep or discard?\n",
    "\n",
    "Because there's only 32 rows with missing application dates, I will drop those and use application date to keep only the most recent application for each location coordinate."
   ]
  },
  {
   "cell_type": "code",
   "execution_count": 11,
   "metadata": {},
   "outputs": [
    {
     "name": "stdout",
     "output_type": "stream",
     "text": [
      "14423\n",
      "12687\n"
     ]
    }
   ],
   "source": [
    "# drop rows with missing application date\n",
    "df = df.drop(df.loc[df[\"Application Date\"].isnull()].index)\n",
    "df[\"Application Date\"] = pd.to_datetime(df[\"Application Date\"])\n",
    "df[\"Year\"] = pd.DatetimeIndex(df[\"Application Date\"]).year\n",
    "\n",
    "df_last_loc = df.sort_values(\"Application Date\").drop_duplicates(\"Location\", keep=\"last\")\n",
    "\n",
    "print(len(df_last_loc))\n",
    "print(df[\"Address\"].nunique())\n"
   ]
  },
  {
   "cell_type": "markdown",
   "metadata": {},
   "source": [
    "After futher inspection, it seems that different locations have the same address, so it may be best to use Address as a unique id rather than Location.\n",
    "\n",
    "For looking at the counts of \"Current Status\" I want to only have the last entry for each unique address, so I will remove duplicate addresses for that graph."
   ]
  },
  {
   "cell_type": "code",
   "execution_count": 12,
   "metadata": {},
   "outputs": [
    {
     "data": {
      "text/plain": [
       "Text(0.5, 1.0, 'Current Status of Last Submitted Application for Each Address')"
      ]
     },
     "execution_count": 12,
     "metadata": {},
     "output_type": "execute_result"
    },
    {
     "data": {
      "image/png": "[encoded data removed]",
      "text/plain": [
       "<Figure size 720x360 with 1 Axes>"
      ]
     },
     "metadata": {},
     "output_type": "display_data"
    }
   ],
   "source": [
    "df_last_add = df.sort_values(\"Application Date\").drop_duplicates(\"Address\", keep=\"last\")\n",
    "df_last_add = df_last_add.drop(df_last_add[df_last_add[\"Address\"].isnull()].index)\n",
    "\n",
    "sns.set_theme(style=\"whitegrid\", palette=\"pastel\")\n",
    "\n",
    "g = sns.catplot(x=\"Current Status\", data=df_last_add, kind=\"count\", alpha=0.8,\n",
    "                    height=5, aspect=2, order=[\"Expired\",\"Denied\",\"Issued\",\"Pending\",\"Withdrawn\",\"Revoked\"])\n",
    "g.despine(left=True)\n",
    "plt.title(\"Current Status of Last Submitted Application for Each Address\")"
   ]
  },
  {
   "cell_type": "code",
   "execution_count": 13,
   "metadata": {},
   "outputs": [
    {
     "name": "stdout",
     "output_type": "stream",
     "text": [
      "There are currently 1770 issued short-term rental permits.\n"
     ]
    }
   ],
   "source": [
    "issued_num = df_last_add.groupby(\"Current Status\")[\"Application Date\"].count()[\"Issued\"]\n",
    "print(f\"There are currently {issued_num} issued short-term rental permits.\")"
   ]
  },
  {
   "cell_type": "markdown",
   "metadata": {},
   "source": [
    "It's not too surprising that the majority of the most recent applications for short-term rentals in New Orleans are either expired or denied as most people have not been traveling due to COVID.\n",
    "\n",
    "We can see this clearly when looking at the number of applications by year. "
   ]
  },
  {
   "cell_type": "code",
   "execution_count": 14,
   "metadata": {},
   "outputs": [
    {
     "data": {
      "text/plain": [
       "<seaborn.axisgrid.FacetGrid at 0x7fdb4fd5db50>"
      ]
     },
     "execution_count": 14,
     "metadata": {},
     "output_type": "execute_result"
    },
    {
     "data": {
      "image/png": "[encoded data removed]",
      "text/plain": [
       "<Figure size 720x360 with 1 Axes>"
      ]
     },
     "metadata": {},
     "output_type": "display_data"
    }
   ],
   "source": [
    "g = sns.catplot(x=\"Year\", data=df_last_add, alpha=0.8, kind=\"count\", height=5, aspect=2)\n",
    "g.set_ylabels(\"New Applications\")"
   ]
  },
  {
   "cell_type": "code",
   "execution_count": 15,
   "metadata": {},
   "outputs": [
    {
     "data": {
      "text/plain": [
       "<seaborn.axisgrid.FacetGrid at 0x7fdb535220a0>"
      ]
     },
     "execution_count": 15,
     "metadata": {},
     "output_type": "execute_result"
    },
    {
     "data": {
      "image/png": "[encoded data removed]",
      "text/plain": [
       "<Figure size 451.85x360 with 1 Axes>"
      ]
     },
     "metadata": {},
     "output_type": "display_data"
    }
   ],
   "source": [
    "df_year_status = df_last_add.groupby([\"Year\",\"Current Status\"])[\"Application Date\"].count().reset_index()\n",
    "\n",
    "g = sns.relplot(x=\"Year\",  y=\"Application Date\", hue=\"Current Status\", data=df_year_status, alpha=0.8, \n",
    "                kind=\"line\", marker=\"o\", height=5)\n",
    "g.set_ylabels(\"New Applications\")"
   ]
  },
  {
   "cell_type": "markdown",
   "metadata": {},
   "source": [
    "Another question: Which addresses have had the most applications put in?"
   ]
  },
  {
   "cell_type": "code",
   "execution_count": null,
   "metadata": {},
   "outputs": [
    {
     "data": {
      "text/plain": [
       "Text(0.5, 0, 'Applications')"
      ]
     },
     "execution_count": 8,
     "metadata": {},
     "output_type": "execute_result"
    },
    {
     "data": {
      "image/png": "[encoded data removed]",
      "text/plain": [
       "<Figure size 576x288 with 1 Axes>"
      ]
     },
     "metadata": {},
     "output_type": "display_data"
    }
   ],
   "source": [
    "# top 5 addresses that have the most applications\n",
    "top_5_adds = df.groupby(\"Address\")[\"Application Date\"].count().sort_values(ascending=False).head(5)\n",
    "\n",
    "fig, ax = plt.subplots(figsize=(8,4))\n",
    "sns.barplot(x=top_5_adds.values, y=top_5_adds.index, ax=ax, alpha=0.8)\n",
    "ax.set_title(\"Top 5 Addresses With Most Submitted Applications Since 2017\")\n",
    "ax.set_ylabel(\"\")\n",
    "ax.set_xlabel(\"Applications\")"
   ]
  },
  {
   "cell_type": "code",
   "execution_count": 19,
   "metadata": {},
   "outputs": [],
   "source": [
    "df_year_count = df_last_add.groupby(\"Year\")[\"Application Date\"].count().reset_index()\n",
    "df_year_count.rename(columns={\"Year\":\"Year\",\"Application Date\":\"Application Count\"}, inplace=True)"
   ]
  },
  {
   "cell_type": "code",
   "execution_count": 20,
   "metadata": {},
   "outputs": [
    {
     "data": {
      "text/html": [
       "<div>\n",
       "<style scoped>\n",
       "    .dataframe tbody tr th:only-of-type {\n",
       "        vertical-align: middle;\n",
       "    }\n",
       "\n",
       "    .dataframe tbody tr th {\n",
       "        vertical-align: top;\n",
       "    }\n",
       "\n",
       "    .dataframe thead th {\n",
       "        text-align: right;\n",
       "    }\n",
       "</style>\n",
       "<table border=\"1\" class=\"dataframe\">\n",
       "  <thead>\n",
       "    <tr style=\"text-align: right;\">\n",
       "      <th></th>\n",
       "      <th>Year</th>\n",
       "      <th>Application Count</th>\n",
       "    </tr>\n",
       "  </thead>\n",
       "  <tbody>\n",
       "    <tr>\n",
       "      <th>0</th>\n",
       "      <td>2017</td>\n",
       "      <td>3380</td>\n",
       "    </tr>\n",
       "    <tr>\n",
       "      <th>1</th>\n",
       "      <td>2018</td>\n",
       "      <td>2659</td>\n",
       "    </tr>\n",
       "    <tr>\n",
       "      <th>2</th>\n",
       "      <td>2019</td>\n",
       "      <td>3247</td>\n",
       "    </tr>\n",
       "    <tr>\n",
       "      <th>3</th>\n",
       "      <td>2020</td>\n",
       "      <td>1158</td>\n",
       "    </tr>\n",
       "    <tr>\n",
       "      <th>4</th>\n",
       "      <td>2021</td>\n",
       "      <td>2220</td>\n",
       "    </tr>\n",
       "    <tr>\n",
       "      <th>5</th>\n",
       "      <td>2022</td>\n",
       "      <td>23</td>\n",
       "    </tr>\n",
       "  </tbody>\n",
       "</table>\n",
       "</div>"
      ],
      "text/plain": [
       "   Year  Application Count\n",
       "0  2017               3380\n",
       "1  2018               2659\n",
       "2  2019               3247\n",
       "3  2020               1158\n",
       "4  2021               2220\n",
       "5  2022                 23"
      ]
     },
     "execution_count": 20,
     "metadata": {},
     "output_type": "execute_result"
    }
   ],
   "source": [
    "df_year_count"
   ]
  }
 ],
 "metadata": {
  "interpreter": {
   "hash": "fc5d53e7637e3e8baf8694ab88c53f7d3efb9d8bf57212e05c12ee96317501c1"
  },
  "kernelspec": {
   "display_name": "Python 3.9.5 64-bit ('apl': conda)",
   "language": "python",
   "name": "python3"
  },
  "language_info": {
   "codemirror_mode": {
    "name": "ipython",
    "version": 3
   },
   "file_extension": ".py",
   "mimetype": "text/x-python",
   "name": "python",
   "nbconvert_exporter": "python",
   "pygments_lexer": "ipython3",
   "version": "3.9.5"
  },
  "orig_nbformat": 4
 },
 "nbformat": 4,
 "nbformat_minor": 2
}
